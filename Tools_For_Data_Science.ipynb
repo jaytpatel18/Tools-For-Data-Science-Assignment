{
 "cells": [
  {
   "cell_type": "markdown",
   "metadata": {},
   "source": [
    "Exercise 2 - Create a markdown cell with the title of the notebook. (1 pt)"
   ]
  },
  {
   "cell_type": "markdown",
   "metadata": {},
   "source": [
    "<!-- Create a markdown cell with the title of the notebook. -->\n",
    "\n",
    "<center><h1>Tools For Data Science </h1></center>"
   ]
  },
  {
   "cell_type": "markdown",
   "metadata": {},
   "source": [
    "Exercise 3 - Create a markdown cell for an introduction. (1 pt)"
   ]
  },
  {
   "cell_type": "markdown",
   "metadata": {},
   "source": [
    "<!-- Exercise 3 - Create a markdown cell for an introduction. (1 pt) -->\n",
    "\n",
    "<h4><p>About\n",
    "Hello, my name is Jay, and I am a passionate Data Science enthusiast. As a data geek, I have a strong passion for problem-solving through data analysis. I am dedicated to utilizing my skills and knowledge to extract valuable insights from complex datasets.\n",
    "\n",
    "I have gained extensive experience in programming languages, with a particular focus on Python. Python, known for its versatility, is my go-to tool for data manipulation, analysis, visualization, and modeling. Leveraging its rich ecosystem of libraries and frameworks, including Pandas, NumPy, Scikit-learn, TensorFlow, and many more, I am able to efficiently handle data and develop powerful machine learning and deep learning models.\n",
    "\n",
    "In addition to my programming expertise, I have ventured into the realm of cloud computing. I have valuable experience working with Google Cloud Platform (GCP), where I effectively utilize tools such as Compute Engine to harness scalable and flexible computing resources. Furthermore, I have leveraged BigQuery for analyzing large datasets, allowing me to derive meaningful insights.\n",
    "\n",
    "I have also explored Azure Cloud for Kubernetes purposes, gaining insights into container orchestration and management. Additionally, I have utilized Amazon Web Services (AWS) for developing Alexa applications, expanding my knowledge of cloud-based voice services.\n",
    "\n",
    "By synergizing my proficiency in data science with cloud computing capabilities, my objective is to develop groundbreaking and scalable solutions to address real-world challenges. I am continuously seeking opportunities to expand my knowledge and expertise in both data science and cloud technologies, ensuring that I stay at the forefront of industry advancements.\n",
    "\n",
    "If you are interested in collaborating on data-driven projects or exploring the intersection of data science and cloud computing, I would be delighted to connect with you on LinkedIn.</p></h4>"
   ]
  },
  {
   "cell_type": "markdown",
   "metadata": {},
   "source": [
    "Exercise 4 - Create a markdown cell to list data science languages. (3 pts)"
   ]
  },
  {
   "cell_type": "markdown",
   "metadata": {},
   "source": [
    "<!-- # Exercise 4 - Create a markdown cell to list data science languages. (3 pts) -->\n",
    "\n",
    "<ul>\n",
    "  <li>Python</li>\n",
    "  <li>R</li>\n",
    "  <li>SQL</li>\n",
    "  <li>Java</li>\n",
    "  <li>Julia</li>\n",
    "  <li>Scala</li>\n",
    "  <li>C/C++</li>\n",
    "  <li>JavaScript</li>\n",
    "  <li>Swift</li>\n",
    "  <li>Go</li>\n",
    "  <li>MATLAB</li>\n",
    "  <li>SAS</li>\n",
    "</ul>"
   ]
  },
  {
   "cell_type": "markdown",
   "metadata": {},
   "source": [
    "Exercise 5 - Create a markdown cell to list data science libraries. (3 pts)"
   ]
  },
  {
   "cell_type": "markdown",
   "metadata": {},
   "source": [
    "<!-- Exercise 5 - Create a markdown cell to list data science libraries. (3 pts) -->\n",
    "\n",
    "## Data Science Libraries\n",
    "1. Pandas\n",
    "2. NumPy\n",
    "3. Matplotlib\n",
    "4. Seaborn\n",
    "5. Scikit-learn\n",
    "6. TensorFlow\n",
    "7. Keras\n",
    "8. PyTorch"
   ]
  },
  {
   "cell_type": "markdown",
   "metadata": {},
   "source": [
    "Exercise 6 - Create a markdown cell with a table of Data Science tools. (3 pts)"
   ]
  },
  {
   "cell_type": "markdown",
   "metadata": {},
   "source": [
    "<!-- Exercise 6 - Create a markdown cell with a table of Data Science tools. (3 pts) -->\n",
    "\n",
    "| Tool           | Description                              |\n",
    "|----------------|------------------------------------------|\n",
    "| Pandas         | Data manipulation and analysis           |\n",
    "| NumPy          | Numerical computing library               |\n",
    "| Matplotlib     | Data visualization library               |\n",
    "| Seaborn        | Statistical data visualization           |\n",
    "| Scikit-learn   | Machine learning library                 |\n",
    "| TensorFlow     | Machine learning platform                |\n",
    "| Keras          | Deep learning library                    |\n",
    "| PyTorch        | Open source machine learning library     |"
   ]
  },
  {
   "cell_type": "markdown",
   "metadata": {},
   "source": [
    "Exercise 7 - Create a markdown cell introducing arithmetic expression examples. (1 pt)\n",
    "\n"
   ]
  },
  {
   "cell_type": "markdown",
   "metadata": {},
   "source": [
    "<!-- Exercise 7 - Create a markdown cell introducing arithmetic expression examples. (1 pt) -->\n",
    "\n",
    "- Addition: 3 + 4\n",
    "- Subtraction: 10 - 5\n",
    "- Multiplication: 6 * 8\n",
    "- Division: 15 / 3"
   ]
  },
  {
   "cell_type": "markdown",
   "metadata": {},
   "source": [
    "Exercise 8 - Create a code cell to multiply and add numbers. (2 pts)"
   ]
  },
  {
   "cell_type": "code",
   "execution_count": 1,
   "metadata": {},
   "outputs": [
    {
     "name": "stdout",
     "output_type": "stream",
     "text": [
      "50\n",
      "35\n"
     ]
    }
   ],
   "source": [
    "# Multiply two numbers\n",
    "a, b = 5, 10\n",
    "c = a * b\n",
    "print(c)\n",
    "\n",
    "# Add two numbers\n",
    "x, y = 15, 20\n",
    "z = x + y\n",
    "print(z)"
   ]
  },
  {
   "cell_type": "markdown",
   "metadata": {},
   "source": [
    "Exercise 9 - Create a code cell to convert minutes to hours. (2 pts)"
   ]
  },
  {
   "cell_type": "code",
   "execution_count": 2,
   "metadata": {},
   "outputs": [
    {
     "name": "stdout",
     "output_type": "stream",
     "text": [
      "Hours: 2\n",
      "Minutes: 30\n"
     ]
    }
   ],
   "source": [
    "# Convert minutes to hours\n",
    "minutes = 150\n",
    "hours = minutes // 60\n",
    "print(\"Hours:\", hours)\n",
    "print(\"Minutes:\", minutes % 60)"
   ]
  },
  {
   "cell_type": "markdown",
   "metadata": {},
   "source": [
    "Exercise 10 -Insert a markdown cell to list Objectives. (3 pts)"
   ]
  },
  {
   "cell_type": "markdown",
   "metadata": {},
   "source": [
    "<!-- Exercise 10 -Insert a markdown cell to list Objectives. (3 pts) -->\n",
    "\n",
    "* Exercise 2 - Create a markdown cell with the title of the notebook. (1 pt)\n",
    "* Exercise 3 - Create a markdown cell for an introduction. (1 pt)\n",
    "* Exercise 4 - Create a markdown cell to list data science languages. (3 pts)\n",
    "* Exercise 5 - Create a markdown cell to list data science libraries. (3 pts). Exercise 6 - Create a markdown cell with a table of Data Science tools. (3 pts)\n",
    "* Exercise 7 - Create a markdown cell introducing arithmetic expression examples. (1 pt)\n",
    "* Exercise 8 - Create a code cell to multiply and add numbers. (2 pts)\n",
    "* Exercise 9 - Create a code cell to convert minutes to hours. (2 pts)\n",
    "* Exercise 10 -Insert a markdown cell to list Objectives. (3 pts)\n",
    "* Exercise 11 - Create a markdown cell to indicate the Author’s name. (2 pts)\n",
    "* Exercise 12 - Share your notebook through GitHub (3 pts)\n",
    "* Exercise 13 - Take a screenshot of the first page of the notebook. (1 pt)"
   ]
  },
  {
   "cell_type": "markdown",
   "metadata": {},
   "source": [
    "##### Exercise 11 - Create a markdown cell to indicate the Author’s name. (2 pts)\n",
    "\n",
    "My name is 'Jay Patel'. I created this notebook as part of an exercise for a 'Tools For Data Science' course."
   ]
  }
 ],
 "metadata": {
  "kernelspec": {
   "display_name": "Python 3",
   "language": "python",
   "name": "python3"
  },
  "language_info": {
   "codemirror_mode": {
    "name": "ipython",
    "version": 3
   },
   "file_extension": ".py",
   "mimetype": "text/x-python",
   "name": "python",
   "nbconvert_exporter": "python",
   "pygments_lexer": "ipython3",
   "version": "3.9.5"
  }
 },
 "nbformat": 4,
 "nbformat_minor": 2
}
